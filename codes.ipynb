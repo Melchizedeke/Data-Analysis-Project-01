{
 "cells": [
  {
   "attachments": {},
   "cell_type": "markdown",
   "metadata": {},
   "source": [
    "## Basic Libraries Import and Set Up"
   ]
  },
  {
   "cell_type": "code",
   "execution_count": 1,
   "metadata": {},
   "outputs": [],
   "source": [
    "import numpy as np\n",
    "import pandas as pd\n",
    "import matplotlib.pyplot as plt\n",
    "import seaborn as sns\n",
    "sns.set()\n",
    "%matplotlib inline"
   ]
  },
  {
   "attachments": {},
   "cell_type": "markdown",
   "metadata": {},
   "source": [
    "## Importing the Dataset\n",
    "\n",
    "The DATE column has to be parsed to ensure that errors attached to not parsing it are eliminated."
   ]
  },
  {
   "cell_type": "code",
   "execution_count": 3,
   "metadata": {},
   "outputs": [],
   "source": [
    "df = pd.read_csv(\"Production Data Cleaned.csv\", parse_dates=['Date'])"
   ]
  },
  {
   "cell_type": "code",
   "execution_count": 4,
   "metadata": {},
   "outputs": [
    {
     "data": {
      "text/html": [
       "<div><div id=9cf82937-50d4-4256-901d-d82a1ef429aa style=\"display:none; background-color:#9D6CFF; color:white; width:200px; height:30px; padding-left:5px; border-radius:4px; flex-direction:row; justify-content:space-around; align-items:center;\" onmouseover=\"this.style.backgroundColor='#BA9BF8'\" onmouseout=\"this.style.backgroundColor='#9D6CFF'\" onclick=\"window.commands?.execute('create-mitosheet-from-dataframe-output');\">See Full Dataframe in Mito</div> <script> if (window.commands?.hasCommand('create-mitosheet-from-dataframe-output')) document.getElementById('9cf82937-50d4-4256-901d-d82a1ef429aa').style.display = 'flex' </script> <table border=\"1\" class=\"dataframe\">\n",
       "  <thead>\n",
       "    <tr style=\"text-align: right;\">\n",
       "      <th></th>\n",
       "      <th>Date</th>\n",
       "      <th>NUMBER OF DRUM(QTY)</th>\n",
       "      <th>Unnamed: 2</th>\n",
       "      <th>Price (?) per 25 litres</th>\n",
       "      <th>Sales (?)</th>\n",
       "      <th>EXPENSES ANALYSIS</th>\n",
       "      <th>Gross Cost of Production (?)</th>\n",
       "      <th>Gross Profit (?)</th>\n",
       "      <th>Unnamed: 8</th>\n",
       "      <th>Unnamed: 9</th>\n",
       "      <th>Unnamed: 10</th>\n",
       "      <th>Litres</th>\n",
       "    </tr>\n",
       "  </thead>\n",
       "  <tbody>\n",
       "    <tr>\n",
       "      <th>0</th>\n",
       "      <td>2023-02-01</td>\n",
       "      <td>6 DRUMS</td>\n",
       "      <td>6.0</td>\n",
       "      <td>20000</td>\n",
       "      <td>120000</td>\n",
       "      <td>LABOUR PAYMENT FOR PRODUCTION</td>\n",
       "      <td>67450</td>\n",
       "      <td>52550</td>\n",
       "      <td>NaN</td>\n",
       "      <td>NaN</td>\n",
       "      <td>NaN</td>\n",
       "      <td>150.0</td>\n",
       "    </tr>\n",
       "    <tr>\n",
       "      <th>1</th>\n",
       "      <td>2023-02-01</td>\n",
       "      <td>1 DRUM MCFDS</td>\n",
       "      <td>1.0</td>\n",
       "      <td>10000</td>\n",
       "      <td>10000</td>\n",
       "      <td>NaN</td>\n",
       "      <td>0</td>\n",
       "      <td>10000</td>\n",
       "      <td>NaN</td>\n",
       "      <td>NaN</td>\n",
       "      <td>NaN</td>\n",
       "      <td>25.0</td>\n",
       "    </tr>\n",
       "    <tr>\n",
       "      <th>2</th>\n",
       "      <td>2023-01-03</td>\n",
       "      <td>6 DRUMS</td>\n",
       "      <td>6.0</td>\n",
       "      <td>23000</td>\n",
       "      <td>138000</td>\n",
       "      <td>LABOUR PAYMENT FOR PRODUCTION</td>\n",
       "      <td>51200</td>\n",
       "      <td>86800</td>\n",
       "      <td>NaN</td>\n",
       "      <td>NaN</td>\n",
       "      <td>NaN</td>\n",
       "      <td>150.0</td>\n",
       "    </tr>\n",
       "    <tr>\n",
       "      <th>3</th>\n",
       "      <td>2023-02-03</td>\n",
       "      <td>6 DRUMS</td>\n",
       "      <td>6.0</td>\n",
       "      <td>20000</td>\n",
       "      <td>120000</td>\n",
       "      <td>LABOUR PAYMENT FOR PRODUCTION</td>\n",
       "      <td>63450</td>\n",
       "      <td>56550</td>\n",
       "      <td>NaN</td>\n",
       "      <td>NaN</td>\n",
       "      <td>NaN</td>\n",
       "      <td>150.0</td>\n",
       "    </tr>\n",
       "    <tr>\n",
       "      <th>4</th>\n",
       "      <td>2023-08-03</td>\n",
       "      <td>5 GALLONS</td>\n",
       "      <td>5.0</td>\n",
       "      <td>19000</td>\n",
       "      <td>95000</td>\n",
       "      <td>LABOUR PAYMENT FOR PRODUCTION</td>\n",
       "      <td>64140</td>\n",
       "      <td>30860</td>\n",
       "      <td>NaN</td>\n",
       "      <td>NaN</td>\n",
       "      <td>NaN</td>\n",
       "      <td>125.0</td>\n",
       "    </tr>\n",
       "  </tbody>\n",
       "</table></div>"
      ],
      "text/plain": [
       "        Date NUMBER OF DRUM(QTY)  Unnamed: 2  Price (?) per 25 litres  \\\n",
       "0 2023-02-01             6 DRUMS         6.0                    20000   \n",
       "1 2023-02-01        1 DRUM MCFDS         1.0                    10000   \n",
       "2 2023-01-03             6 DRUMS         6.0                    23000   \n",
       "3 2023-02-03             6 DRUMS         6.0                    20000   \n",
       "4 2023-08-03           5 GALLONS         5.0                    19000   \n",
       "\n",
       "   Sales (?)                EXPENSES ANALYSIS  Gross Cost of Production (?)  \\\n",
       "0     120000   LABOUR PAYMENT FOR PRODUCTION                          67450   \n",
       "1      10000                              NaN                             0   \n",
       "2     138000   LABOUR PAYMENT FOR PRODUCTION                          51200   \n",
       "3     120000   LABOUR PAYMENT FOR PRODUCTION                          63450   \n",
       "4      95000   LABOUR PAYMENT FOR PRODUCTION                          64140   \n",
       "\n",
       "   Gross Profit (?)  Unnamed: 8  Unnamed: 9  Unnamed: 10  Litres  \n",
       "0             52550         NaN         NaN          NaN   150.0  \n",
       "1             10000         NaN         NaN          NaN    25.0  \n",
       "2             86800         NaN         NaN          NaN   150.0  \n",
       "3             56550         NaN         NaN          NaN   150.0  \n",
       "4             30860         NaN         NaN          NaN   125.0  "
      ]
     },
     "execution_count": 4,
     "metadata": {},
     "output_type": "execute_result"
    }
   ],
   "source": [
    "df.head()"
   ]
  },
  {
   "cell_type": "code",
   "execution_count": 5,
   "metadata": {},
   "outputs": [
    {
     "name": "stdout",
     "output_type": "stream",
     "text": [
      "<class 'pandas.core.frame.DataFrame'>\n",
      "RangeIndex: 47 entries, 0 to 46\n",
      "Data columns (total 12 columns):\n",
      " #   Column                        Non-Null Count  Dtype         \n",
      "---  ------                        --------------  -----         \n",
      " 0   Date                          47 non-null     datetime64[ns]\n",
      " 1   NUMBER OF DRUM(QTY)           47 non-null     object        \n",
      " 2   Unnamed: 2                    47 non-null     float64       \n",
      " 3   Price (?) per 25 litres       47 non-null     int64         \n",
      " 4   Sales (?)                     47 non-null     int64         \n",
      " 5   EXPENSES ANALYSIS             44 non-null     object        \n",
      " 6   Gross Cost of Production (?)  47 non-null     int64         \n",
      " 7   Gross Profit (?)              47 non-null     int64         \n",
      " 8   Unnamed: 8                    0 non-null      float64       \n",
      " 9   Unnamed: 9                    0 non-null      float64       \n",
      " 10  Unnamed: 10                   0 non-null      float64       \n",
      " 11  Litres                        47 non-null     float64       \n",
      "dtypes: datetime64[ns](1), float64(5), int64(4), object(2)\n",
      "memory usage: 4.5+ KB\n"
     ]
    }
   ],
   "source": [
    "df.info()"
   ]
  },
  {
   "cell_type": "code",
   "execution_count": 6,
   "metadata": {},
   "outputs": [
    {
     "data": {
      "text/html": [
       "<div><div id=7d85c476-346a-4346-a5ab-393a1b574559 style=\"display:none; background-color:#9D6CFF; color:white; width:200px; height:30px; padding-left:5px; border-radius:4px; flex-direction:row; justify-content:space-around; align-items:center;\" onmouseover=\"this.style.backgroundColor='#BA9BF8'\" onmouseout=\"this.style.backgroundColor='#9D6CFF'\" onclick=\"window.commands?.execute('create-mitosheet-from-dataframe-output');\">See Full Dataframe in Mito</div> <script> if (window.commands?.hasCommand('create-mitosheet-from-dataframe-output')) document.getElementById('7d85c476-346a-4346-a5ab-393a1b574559').style.display = 'flex' </script> <table border=\"1\" class=\"dataframe\">\n",
       "  <thead>\n",
       "    <tr style=\"text-align: right;\">\n",
       "      <th></th>\n",
       "      <th>Unnamed: 2</th>\n",
       "      <th>Price (?) per 25 litres</th>\n",
       "      <th>Sales (?)</th>\n",
       "      <th>Gross Cost of Production (?)</th>\n",
       "      <th>Gross Profit (?)</th>\n",
       "      <th>Unnamed: 8</th>\n",
       "      <th>Unnamed: 9</th>\n",
       "      <th>Unnamed: 10</th>\n",
       "      <th>Litres</th>\n",
       "    </tr>\n",
       "  </thead>\n",
       "  <tbody>\n",
       "    <tr>\n",
       "      <th>count</th>\n",
       "      <td>47.000000</td>\n",
       "      <td>47.000000</td>\n",
       "      <td>47.000000</td>\n",
       "      <td>47.000000</td>\n",
       "      <td>47.000000</td>\n",
       "      <td>0.0</td>\n",
       "      <td>0.0</td>\n",
       "      <td>0.0</td>\n",
       "      <td>47.000000</td>\n",
       "    </tr>\n",
       "    <tr>\n",
       "      <th>mean</th>\n",
       "      <td>5.585106</td>\n",
       "      <td>17276.595745</td>\n",
       "      <td>107170.212766</td>\n",
       "      <td>61169.042553</td>\n",
       "      <td>46001.170213</td>\n",
       "      <td>NaN</td>\n",
       "      <td>NaN</td>\n",
       "      <td>NaN</td>\n",
       "      <td>139.627660</td>\n",
       "    </tr>\n",
       "    <tr>\n",
       "      <th>std</th>\n",
       "      <td>2.017099</td>\n",
       "      <td>4095.077255</td>\n",
       "      <td>45631.472334</td>\n",
       "      <td>39739.356924</td>\n",
       "      <td>24962.189434</td>\n",
       "      <td>NaN</td>\n",
       "      <td>NaN</td>\n",
       "      <td>NaN</td>\n",
       "      <td>50.427463</td>\n",
       "    </tr>\n",
       "    <tr>\n",
       "      <th>min</th>\n",
       "      <td>0.000000</td>\n",
       "      <td>7000.000000</td>\n",
       "      <td>10000.000000</td>\n",
       "      <td>0.000000</td>\n",
       "      <td>-15000.000000</td>\n",
       "      <td>NaN</td>\n",
       "      <td>NaN</td>\n",
       "      <td>NaN</td>\n",
       "      <td>0.000000</td>\n",
       "    </tr>\n",
       "    <tr>\n",
       "      <th>25%</th>\n",
       "      <td>5.250000</td>\n",
       "      <td>15000.000000</td>\n",
       "      <td>95500.000000</td>\n",
       "      <td>52050.000000</td>\n",
       "      <td>33575.000000</td>\n",
       "      <td>NaN</td>\n",
       "      <td>NaN</td>\n",
       "      <td>NaN</td>\n",
       "      <td>131.250000</td>\n",
       "    </tr>\n",
       "    <tr>\n",
       "      <th>50%</th>\n",
       "      <td>6.000000</td>\n",
       "      <td>18000.000000</td>\n",
       "      <td>114000.000000</td>\n",
       "      <td>59900.000000</td>\n",
       "      <td>50700.000000</td>\n",
       "      <td>NaN</td>\n",
       "      <td>NaN</td>\n",
       "      <td>NaN</td>\n",
       "      <td>150.000000</td>\n",
       "    </tr>\n",
       "    <tr>\n",
       "      <th>75%</th>\n",
       "      <td>7.000000</td>\n",
       "      <td>20000.000000</td>\n",
       "      <td>123000.000000</td>\n",
       "      <td>64440.000000</td>\n",
       "      <td>61000.000000</td>\n",
       "      <td>NaN</td>\n",
       "      <td>NaN</td>\n",
       "      <td>NaN</td>\n",
       "      <td>175.000000</td>\n",
       "    </tr>\n",
       "    <tr>\n",
       "      <th>max</th>\n",
       "      <td>8.000000</td>\n",
       "      <td>24000.000000</td>\n",
       "      <td>287000.000000</td>\n",
       "      <td>287000.000000</td>\n",
       "      <td>86990.000000</td>\n",
       "      <td>NaN</td>\n",
       "      <td>NaN</td>\n",
       "      <td>NaN</td>\n",
       "      <td>200.000000</td>\n",
       "    </tr>\n",
       "  </tbody>\n",
       "</table></div>"
      ],
      "text/plain": [
       "       Unnamed: 2  Price (?) per 25 litres      Sales (?)  \\\n",
       "count   47.000000                47.000000      47.000000   \n",
       "mean     5.585106             17276.595745  107170.212766   \n",
       "std      2.017099              4095.077255   45631.472334   \n",
       "min      0.000000              7000.000000   10000.000000   \n",
       "25%      5.250000             15000.000000   95500.000000   \n",
       "50%      6.000000             18000.000000  114000.000000   \n",
       "75%      7.000000             20000.000000  123000.000000   \n",
       "max      8.000000             24000.000000  287000.000000   \n",
       "\n",
       "       Gross Cost of Production (?)  Gross Profit (?)  Unnamed: 8  Unnamed: 9  \\\n",
       "count                     47.000000         47.000000         0.0         0.0   \n",
       "mean                   61169.042553      46001.170213         NaN         NaN   \n",
       "std                    39739.356924      24962.189434         NaN         NaN   \n",
       "min                        0.000000     -15000.000000         NaN         NaN   \n",
       "25%                    52050.000000      33575.000000         NaN         NaN   \n",
       "50%                    59900.000000      50700.000000         NaN         NaN   \n",
       "75%                    64440.000000      61000.000000         NaN         NaN   \n",
       "max                   287000.000000      86990.000000         NaN         NaN   \n",
       "\n",
       "       Unnamed: 10      Litres  \n",
       "count          0.0   47.000000  \n",
       "mean           NaN  139.627660  \n",
       "std            NaN   50.427463  \n",
       "min            NaN    0.000000  \n",
       "25%            NaN  131.250000  \n",
       "50%            NaN  150.000000  \n",
       "75%            NaN  175.000000  \n",
       "max            NaN  200.000000  "
      ]
     },
     "execution_count": 6,
     "metadata": {},
     "output_type": "execute_result"
    }
   ],
   "source": [
    "df.describe()"
   ]
  },
  {
   "attachments": {},
   "cell_type": "markdown",
   "metadata": {},
   "source": [
    "## Data Cleaning\n",
    "Dropping off the unnamed colmns as well as the EXPENSES ANALYSIS column because of its data type being object and as such has no importance to the analysis."
   ]
  },
  {
   "cell_type": "code",
   "execution_count": 7,
   "metadata": {},
   "outputs": [],
   "source": [
    "df.drop('Unnamed: 8', axis=1, inplace=True)\n",
    "df.drop('Unnamed: 9', axis=1, inplace=True)\n",
    "df.drop('Unnamed: 10', axis=1, inplace=True)\n",
    "df.drop('Unnamed: 2', axis=1, inplace=True)\n",
    "df.drop('EXPENSES ANALYSIS', axis=1, inplace=True)"
   ]
  },
  {
   "cell_type": "code",
   "execution_count": 8,
   "metadata": {},
   "outputs": [
    {
     "data": {
      "text/html": [
       "<div><div id=9f6495af-5971-453e-a059-d23319cb77dd style=\"display:none; background-color:#9D6CFF; color:white; width:200px; height:30px; padding-left:5px; border-radius:4px; flex-direction:row; justify-content:space-around; align-items:center;\" onmouseover=\"this.style.backgroundColor='#BA9BF8'\" onmouseout=\"this.style.backgroundColor='#9D6CFF'\" onclick=\"window.commands?.execute('create-mitosheet-from-dataframe-output');\">See Full Dataframe in Mito</div> <script> if (window.commands?.hasCommand('create-mitosheet-from-dataframe-output')) document.getElementById('9f6495af-5971-453e-a059-d23319cb77dd').style.display = 'flex' </script> <table border=\"1\" class=\"dataframe\">\n",
       "  <thead>\n",
       "    <tr style=\"text-align: right;\">\n",
       "      <th></th>\n",
       "      <th>Date</th>\n",
       "      <th>NUMBER OF DRUM(QTY)</th>\n",
       "      <th>Price (?) per 25 litres</th>\n",
       "      <th>Sales (?)</th>\n",
       "      <th>Gross Cost of Production (?)</th>\n",
       "      <th>Gross Profit (?)</th>\n",
       "      <th>Litres</th>\n",
       "    </tr>\n",
       "  </thead>\n",
       "  <tbody>\n",
       "    <tr>\n",
       "      <th>0</th>\n",
       "      <td>2023-02-01</td>\n",
       "      <td>6 DRUMS</td>\n",
       "      <td>20000</td>\n",
       "      <td>120000</td>\n",
       "      <td>67450</td>\n",
       "      <td>52550</td>\n",
       "      <td>150.0</td>\n",
       "    </tr>\n",
       "    <tr>\n",
       "      <th>1</th>\n",
       "      <td>2023-02-01</td>\n",
       "      <td>1 DRUM MCFDS</td>\n",
       "      <td>10000</td>\n",
       "      <td>10000</td>\n",
       "      <td>0</td>\n",
       "      <td>10000</td>\n",
       "      <td>25.0</td>\n",
       "    </tr>\n",
       "    <tr>\n",
       "      <th>2</th>\n",
       "      <td>2023-01-03</td>\n",
       "      <td>6 DRUMS</td>\n",
       "      <td>23000</td>\n",
       "      <td>138000</td>\n",
       "      <td>51200</td>\n",
       "      <td>86800</td>\n",
       "      <td>150.0</td>\n",
       "    </tr>\n",
       "    <tr>\n",
       "      <th>3</th>\n",
       "      <td>2023-02-03</td>\n",
       "      <td>6 DRUMS</td>\n",
       "      <td>20000</td>\n",
       "      <td>120000</td>\n",
       "      <td>63450</td>\n",
       "      <td>56550</td>\n",
       "      <td>150.0</td>\n",
       "    </tr>\n",
       "    <tr>\n",
       "      <th>4</th>\n",
       "      <td>2023-08-03</td>\n",
       "      <td>5 GALLONS</td>\n",
       "      <td>19000</td>\n",
       "      <td>95000</td>\n",
       "      <td>64140</td>\n",
       "      <td>30860</td>\n",
       "      <td>125.0</td>\n",
       "    </tr>\n",
       "  </tbody>\n",
       "</table></div>"
      ],
      "text/plain": [
       "        Date NUMBER OF DRUM(QTY)  Price (?) per 25 litres  Sales (?)  \\\n",
       "0 2023-02-01             6 DRUMS                    20000     120000   \n",
       "1 2023-02-01        1 DRUM MCFDS                    10000      10000   \n",
       "2 2023-01-03             6 DRUMS                    23000     138000   \n",
       "3 2023-02-03             6 DRUMS                    20000     120000   \n",
       "4 2023-08-03           5 GALLONS                    19000      95000   \n",
       "\n",
       "   Gross Cost of Production (?)  Gross Profit (?)  Litres  \n",
       "0                         67450             52550   150.0  \n",
       "1                             0             10000    25.0  \n",
       "2                         51200             86800   150.0  \n",
       "3                         63450             56550   150.0  \n",
       "4                         64140             30860   125.0  "
      ]
     },
     "execution_count": 8,
     "metadata": {},
     "output_type": "execute_result"
    }
   ],
   "source": [
    "df.head()"
   ]
  },
  {
   "cell_type": "code",
   "execution_count": 9,
   "metadata": {},
   "outputs": [
    {
     "name": "stdout",
     "output_type": "stream",
     "text": [
      "<class 'pandas.core.frame.DataFrame'>\n",
      "RangeIndex: 47 entries, 0 to 46\n",
      "Data columns (total 7 columns):\n",
      " #   Column                        Non-Null Count  Dtype         \n",
      "---  ------                        --------------  -----         \n",
      " 0   Date                          47 non-null     datetime64[ns]\n",
      " 1   NUMBER OF DRUM(QTY)           47 non-null     object        \n",
      " 2   Price (?) per 25 litres       47 non-null     int64         \n",
      " 3   Sales (?)                     47 non-null     int64         \n",
      " 4   Gross Cost of Production (?)  47 non-null     int64         \n",
      " 5   Gross Profit (?)              47 non-null     int64         \n",
      " 6   Litres                        47 non-null     float64       \n",
      "dtypes: datetime64[ns](1), float64(1), int64(4), object(1)\n",
      "memory usage: 2.7+ KB\n"
     ]
    }
   ],
   "source": [
    "df.info()"
   ]
  },
  {
   "cell_type": "code",
   "execution_count": 10,
   "metadata": {},
   "outputs": [],
   "source": [
    "df.drop('NUMBER OF DRUM(QTY)', axis=1, inplace=True)"
   ]
  },
  {
   "cell_type": "code",
   "execution_count": 11,
   "metadata": {},
   "outputs": [
    {
     "data": {
      "text/html": [
       "<div><div id=3989b25b-d3e1-4a76-ac88-3b478129075e style=\"display:none; background-color:#9D6CFF; color:white; width:200px; height:30px; padding-left:5px; border-radius:4px; flex-direction:row; justify-content:space-around; align-items:center;\" onmouseover=\"this.style.backgroundColor='#BA9BF8'\" onmouseout=\"this.style.backgroundColor='#9D6CFF'\" onclick=\"window.commands?.execute('create-mitosheet-from-dataframe-output');\">See Full Dataframe in Mito</div> <script> if (window.commands?.hasCommand('create-mitosheet-from-dataframe-output')) document.getElementById('3989b25b-d3e1-4a76-ac88-3b478129075e').style.display = 'flex' </script> <table border=\"1\" class=\"dataframe\">\n",
       "  <thead>\n",
       "    <tr style=\"text-align: right;\">\n",
       "      <th></th>\n",
       "      <th>Date</th>\n",
       "      <th>Price (?) per 25 litres</th>\n",
       "      <th>Sales (?)</th>\n",
       "      <th>Gross Cost of Production (?)</th>\n",
       "      <th>Gross Profit (?)</th>\n",
       "      <th>Litres</th>\n",
       "    </tr>\n",
       "  </thead>\n",
       "  <tbody>\n",
       "    <tr>\n",
       "      <th>0</th>\n",
       "      <td>2023-02-01</td>\n",
       "      <td>20000</td>\n",
       "      <td>120000</td>\n",
       "      <td>67450</td>\n",
       "      <td>52550</td>\n",
       "      <td>150.0</td>\n",
       "    </tr>\n",
       "    <tr>\n",
       "      <th>1</th>\n",
       "      <td>2023-02-01</td>\n",
       "      <td>10000</td>\n",
       "      <td>10000</td>\n",
       "      <td>0</td>\n",
       "      <td>10000</td>\n",
       "      <td>25.0</td>\n",
       "    </tr>\n",
       "    <tr>\n",
       "      <th>2</th>\n",
       "      <td>2023-01-03</td>\n",
       "      <td>23000</td>\n",
       "      <td>138000</td>\n",
       "      <td>51200</td>\n",
       "      <td>86800</td>\n",
       "      <td>150.0</td>\n",
       "    </tr>\n",
       "    <tr>\n",
       "      <th>3</th>\n",
       "      <td>2023-02-03</td>\n",
       "      <td>20000</td>\n",
       "      <td>120000</td>\n",
       "      <td>63450</td>\n",
       "      <td>56550</td>\n",
       "      <td>150.0</td>\n",
       "    </tr>\n",
       "    <tr>\n",
       "      <th>4</th>\n",
       "      <td>2023-08-03</td>\n",
       "      <td>19000</td>\n",
       "      <td>95000</td>\n",
       "      <td>64140</td>\n",
       "      <td>30860</td>\n",
       "      <td>125.0</td>\n",
       "    </tr>\n",
       "  </tbody>\n",
       "</table></div>"
      ],
      "text/plain": [
       "        Date  Price (?) per 25 litres  Sales (?)  \\\n",
       "0 2023-02-01                    20000     120000   \n",
       "1 2023-02-01                    10000      10000   \n",
       "2 2023-01-03                    23000     138000   \n",
       "3 2023-02-03                    20000     120000   \n",
       "4 2023-08-03                    19000      95000   \n",
       "\n",
       "   Gross Cost of Production (?)  Gross Profit (?)  Litres  \n",
       "0                         67450             52550   150.0  \n",
       "1                             0             10000    25.0  \n",
       "2                         51200             86800   150.0  \n",
       "3                         63450             56550   150.0  \n",
       "4                         64140             30860   125.0  "
      ]
     },
     "execution_count": 11,
     "metadata": {},
     "output_type": "execute_result"
    }
   ],
   "source": [
    "df.head()"
   ]
  },
  {
   "attachments": {},
   "cell_type": "markdown",
   "metadata": {},
   "source": [
    "## Exploratory Data Analysis"
   ]
  },
  {
   "cell_type": "code",
   "execution_count": 12,
   "metadata": {},
   "outputs": [
    {
     "data": {
      "image/png": "[encoded data removed]",
      "text/plain": [
       "<Figure size 1080x576 with 1 Axes>"
      ]
     },
     "metadata": {
      "needs_background": "light"
     },
     "output_type": "display_data"
    }
   ],
   "source": [
    "# simplifying data into x and y variables for simplicity\n",
    "x = df['Date']\n",
    "y = df['Sales (?)']\n",
    "\n",
    "# function to add value labels\n",
    "def addlabels(x,y):\n",
    "    for i in range(len(x)):\n",
    "        plt.text(i,y[i],y[i], ha = 'center')\n",
    "        \n",
    "# bar plot\n",
    "df['Sales (?)'].plot(kind='bar', figsize=(15,8))\n",
    "plt.title('Sales (January 2nd to August 30th)')\n",
    "plt.xlabel('Production Days (0 - 46)')\n",
    "plt.ylabel('Sales in Naira(₦)')\n",
    "plt.xticks()\n",
    "addlabels(x, y);"
   ]
  },
  {
   "cell_type": "code",
   "execution_count": 13,
   "metadata": {},
   "outputs": [
    {
     "data": {
      "image/png": "[encoded data removed]",
      "text/plain": [
       "<Figure size 1080x576 with 1 Axes>"
      ]
     },
     "metadata": {
      "needs_background": "light"
     },
     "output_type": "display_data"
    }
   ],
   "source": [
    "# simplifying data into x and y variables for simplicity\n",
    "x = df['Date']\n",
    "y = df['Gross Cost of Production (?)']\n",
    "\n",
    "# function to add value labels\n",
    "def addlabels(x,y):\n",
    "    for i in range(len(x)):\n",
    "        plt.text(i,y[i],y[i], ha = 'center')\n",
    "        \n",
    "# bar plot\n",
    "df['Gross Cost of Production (?)'].plot(kind='bar', figsize=(15,8), color='red')\n",
    "plt.title('Cost of Production (January 2nd to August 30th)')\n",
    "plt.xlabel('Production Days (0 - 46)')\n",
    "plt.ylabel('Cost in Naira(₦)')\n",
    "plt.xticks()\n",
    "addlabels(x, y);"
   ]
  },
  {
   "cell_type": "code",
   "execution_count": null,
   "metadata": {},
   "outputs": [],
   "source": []
  }
 ],
 "metadata": {
  "kernelspec": {
   "display_name": "base",
   "language": "python",
   "name": "python3"
  },
  "language_info": {
   "codemirror_mode": {
    "name": "ipython",
    "version": 3
   },
   "file_extension": ".py",
   "mimetype": "text/x-python",
   "name": "python",
   "nbconvert_exporter": "python",
   "pygments_lexer": "ipython3",
   "version": "3.8.8"
  },
  "orig_nbformat": 4,
  "vscode": {
   "interpreter": {
    "hash": "6ba0883ef75f55eb59f522291f23a06941ace09d33bfcca46f462b483956d544"
   }
  }
 },
 "nbformat": 4,
 "nbformat_minor": 2
}
